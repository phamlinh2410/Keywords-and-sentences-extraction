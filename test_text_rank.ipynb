{
 "cells": [
  {
   "cell_type": "code",
   "execution_count": 5,
   "id": "worthy-guyana",
   "metadata": {},
   "outputs": [],
   "source": [
    "from vncorenlp import VnCoreNLP\n",
    "import numpy as np"
   ]
  },
  {
   "cell_type": "code",
   "execution_count": 6,
   "id": "solved-medline",
   "metadata": {},
   "outputs": [],
   "source": [
    "annotator = VnCoreNLP(r\"C:\\Users\\AD\\Desktop\\kit\\VnCoreNLP\\VnCoreNLP-1.1.1.jar\", annotators=\"wseg,pos,ner,parse\", max_heap_size='-Xmx2g') \n"
   ]
  },
  {
   "cell_type": "code",
   "execution_count": 7,
   "id": "exceptional-lighting",
   "metadata": {},
   "outputs": [],
   "source": [
    "text = \"Ông Nguyễn Khắc Chúc  đang làm việc tại Đại học Quốc gia Hà Nội. Bà Lan, vợ ông Chúc, cũng làm việc tại đây.\""
   ]
  },
  {
   "cell_type": "code",
   "execution_count": 8,
   "id": "corrected-cisco",
   "metadata": {},
   "outputs": [],
   "source": [
    "annotated_text = annotator.annotate(text)"
   ]
  },
  {
   "cell_type": "code",
   "execution_count": 9,
   "id": "sonic-craft",
   "metadata": {},
   "outputs": [],
   "source": [
    "word_segmented_text = annotator.tokenize(text)"
   ]
  },
  {
   "cell_type": "code",
   "execution_count": 10,
   "id": "oriented-western",
   "metadata": {},
   "outputs": [
    {
     "name": "stdout",
     "output_type": "stream",
     "text": [
      "{'sentences': [[{'index': 1, 'form': 'Ông', 'posTag': 'Nc', 'nerLabel': 'O', 'head': 4, 'depLabel': 'sub'}, {'index': 2, 'form': 'Nguyễn_Khắc_Chúc', 'posTag': 'Np', 'nerLabel': 'B-PER', 'head': 1, 'depLabel': 'nmod'}, {'index': 3, 'form': 'đang', 'posTag': 'R', 'nerLabel': 'O', 'head': 4, 'depLabel': 'adv'}, {'index': 4, 'form': 'làm_việc', 'posTag': 'V', 'nerLabel': 'O', 'head': 0, 'depLabel': 'root'}, {'index': 5, 'form': 'tại', 'posTag': 'E', 'nerLabel': 'O', 'head': 4, 'depLabel': 'loc'}, {'index': 6, 'form': 'Đại_học', 'posTag': 'N', 'nerLabel': 'B-ORG', 'head': 5, 'depLabel': 'pob'}, {'index': 7, 'form': 'Quốc_gia', 'posTag': 'N', 'nerLabel': 'I-ORG', 'head': 6, 'depLabel': 'nmod'}, {'index': 8, 'form': 'Hà_Nội', 'posTag': 'Np', 'nerLabel': 'I-ORG', 'head': 6, 'depLabel': 'nmod'}, {'index': 9, 'form': '.', 'posTag': 'CH', 'nerLabel': 'O', 'head': 4, 'depLabel': 'punct'}], [{'index': 1, 'form': 'Bà', 'posTag': 'Nc', 'nerLabel': 'O', 'head': 9, 'depLabel': 'sub'}, {'index': 2, 'form': 'Lan', 'posTag': 'Np', 'nerLabel': 'B-PER', 'head': 1, 'depLabel': 'nmod'}, {'index': 3, 'form': ',', 'posTag': 'CH', 'nerLabel': 'O', 'head': 1, 'depLabel': 'punct'}, {'index': 4, 'form': 'vợ', 'posTag': 'N', 'nerLabel': 'O', 'head': 1, 'depLabel': 'nmod'}, {'index': 5, 'form': 'ông', 'posTag': 'Nc', 'nerLabel': 'O', 'head': 4, 'depLabel': 'nmod'}, {'index': 6, 'form': 'Chúc', 'posTag': 'Np', 'nerLabel': 'B-PER', 'head': 5, 'depLabel': 'nmod'}, {'index': 7, 'form': ',', 'posTag': 'CH', 'nerLabel': 'O', 'head': 1, 'depLabel': 'punct'}, {'index': 8, 'form': 'cũng', 'posTag': 'R', 'nerLabel': 'O', 'head': 9, 'depLabel': 'adv'}, {'index': 9, 'form': 'làm_việc', 'posTag': 'V', 'nerLabel': 'O', 'head': 0, 'depLabel': 'root'}, {'index': 10, 'form': 'tại', 'posTag': 'E', 'nerLabel': 'O', 'head': 9, 'depLabel': 'loc'}, {'index': 11, 'form': 'đây', 'posTag': 'P', 'nerLabel': 'O', 'head': 10, 'depLabel': 'pob'}, {'index': 12, 'form': '.', 'posTag': 'CH', 'nerLabel': 'O', 'head': 9, 'depLabel': 'punct'}]]}\n"
     ]
    }
   ],
   "source": [
    "print(annotated_text)"
   ]
  },
  {
   "cell_type": "code",
   "execution_count": 11,
   "id": "completed-merchant",
   "metadata": {},
   "outputs": [
    {
     "name": "stdout",
     "output_type": "stream",
     "text": [
      "[['Ông', 'Nguyễn_Khắc_Chúc', 'đang', 'làm_việc', 'tại', 'Đại_học', 'Quốc_gia', 'Hà_Nội', '.'], ['Bà', 'Lan', ',', 'vợ', 'ông', 'Chúc', ',', 'cũng', 'làm_việc', 'tại', 'đây', '.']]\n"
     ]
    }
   ],
   "source": [
    "print(word_segmented_text)"
   ]
  },
  {
   "cell_type": "code",
   "execution_count": 12,
   "id": "spectacular-genealogy",
   "metadata": {},
   "outputs": [],
   "source": [
    "n = len(word_segmented_text)"
   ]
  },
  {
   "cell_type": "code",
   "execution_count": 13,
   "id": "valid-triple",
   "metadata": {},
   "outputs": [],
   "source": [
    "sentences = word_segmented_text.copy()"
   ]
  },
  {
   "cell_type": "code",
   "execution_count": 14,
   "id": "enabling-multimedia",
   "metadata": {},
   "outputs": [
    {
     "name": "stdout",
     "output_type": "stream",
     "text": [
      "['đang', 'làm_việc', 'tại', 'Ông', 'Đại_học', 'Hà_Nội', 'Nguyễn_Khắc_Chúc', 'Quốc_gia', '.']\n",
      "['vợ', 'Bà', 'ông', 'làm_việc', 'tại', 'đây', 'Chúc', ',', '.', 'cũng', 'Lan']\n"
     ]
    }
   ],
   "source": [
    "for i in range(0,n):\n",
    "    sentences[i] = list(set(sentences[i]))\n",
    "    print(sentences[i])"
   ]
  },
  {
   "cell_type": "code",
   "execution_count": 15,
   "id": "particular-procedure",
   "metadata": {},
   "outputs": [],
   "source": [
    "punctuation = []"
   ]
  },
  {
   "cell_type": "code",
   "execution_count": 16,
   "id": "champion-leadership",
   "metadata": {},
   "outputs": [],
   "source": [
    "with open(\"punctuation.txt\", \"r\", encoding = \"utf-8\") as data:\n",
    "    for line in data:\n",
    "        punctuation.append(line.strip())\n",
    "data.close()"
   ]
  },
  {
   "cell_type": "code",
   "execution_count": 17,
   "id": "suspended-petersburg",
   "metadata": {},
   "outputs": [
    {
     "name": "stdout",
     "output_type": "stream",
     "text": [
      "['đang', 'làm_việc', 'tại', 'Ông', 'Đại_học', 'Hà_Nội', 'Nguyễn_Khắc_Chúc', 'Quốc_gia']\n",
      "['vợ', 'Bà', 'ông', 'làm_việc', 'tại', 'đây', 'Chúc', 'cũng', 'Lan']\n"
     ]
    }
   ],
   "source": [
    "for i in sentences:\n",
    "    for j in punctuation:\n",
    "        if j in i:\n",
    "            i.remove(j)\n",
    "    print(i)"
   ]
  },
  {
   "cell_type": "code",
   "execution_count": 18,
   "id": "assigned-broad",
   "metadata": {},
   "outputs": [],
   "source": [
    "stopWords = []\n",
    "with open(\"vietnamese-stopwords-dash.txt\", \"r\", encoding = \"utf-8\") as data:\n",
    "    for line in data:\n",
    "        stopWords.append(line.strip())\n",
    "data.close()\n",
    "    "
   ]
  },
  {
   "cell_type": "code",
   "execution_count": 19,
   "id": "published-villa",
   "metadata": {},
   "outputs": [
    {
     "name": "stdout",
     "output_type": "stream",
     "text": [
      "['làm_việc', 'Ông', 'Đại_học', 'Hà_Nội', 'Nguyễn_Khắc_Chúc', 'Quốc_gia']\n",
      "['vợ', 'Bà', 'làm_việc', 'Chúc', 'Lan']\n"
     ]
    }
   ],
   "source": [
    "for i in sentences:\n",
    "    for j in stopWords:\n",
    "        if j in i:\n",
    "            i.remove(j)\n",
    "    print(i)"
   ]
  },
  {
   "cell_type": "code",
   "execution_count": 20,
   "id": "compatible-complaint",
   "metadata": {},
   "outputs": [],
   "source": [
    "stopWords1 = []\n",
    "with open(\"vietnamese-stopwords.txt\", \"r\", encoding = \"utf-8\") as data:\n",
    "    for line in data:\n",
    "        stopWords.append(line.strip())\n",
    "data.close()\n",
    "    "
   ]
  },
  {
   "cell_type": "code",
   "execution_count": 21,
   "id": "addressed-presentation",
   "metadata": {},
   "outputs": [
    {
     "name": "stdout",
     "output_type": "stream",
     "text": [
      "['làm_việc', 'Ông', 'Đại_học', 'Hà_Nội', 'Nguyễn_Khắc_Chúc', 'Quốc_gia']\n",
      "['vợ', 'Bà', 'làm_việc', 'Chúc', 'Lan']\n"
     ]
    }
   ],
   "source": [
    "for i in sentences:\n",
    "    for j in stopWords1:\n",
    "        if j in i:\n",
    "            i.remove(j)\n",
    "    print(i)"
   ]
  },
  {
   "cell_type": "code",
   "execution_count": 22,
   "id": "renewable-composition",
   "metadata": {},
   "outputs": [
    {
     "name": "stdout",
     "output_type": "stream",
     "text": [
      "['làm_việc', 'Ông', 'Hà_Nội', 'Đại_học', 'Nguyễn_Khắc_Chúc', 'Quốc_gia']\n",
      "['vợ', 'Bà', 'làm_việc', 'Chúc', 'Lan']\n"
     ]
    }
   ],
   "source": [
    "length = len(word_segmented_text)\n",
    "sentences = word_segmented_text.copy()\n",
    "for i in range(0, length):\n",
    "    sentences[i] = list(set(sentences[i]) - set(punctuation) - set(stopWords))\n",
    "    print(sentences[i])"
   ]
  },
  {
   "cell_type": "code",
   "execution_count": 23,
   "id": "square-locator",
   "metadata": {},
   "outputs": [
    {
     "name": "stdout",
     "output_type": "stream",
     "text": [
      "0.0\t0.1\t\n",
      "0.1\t0.0\t\n"
     ]
    }
   ],
   "source": [
    "matrix = np.zeros((length, length))\n",
    "for i in range(0, length):\n",
    "    for j in range(0, length):\n",
    "        if i != j:\n",
    "            jaccard = len(set(sentences[i]) & set(sentences[j])) / len(set(sentences[i]) | set(sentences[j]))\n",
    "            if jaccard != 0:\n",
    "                matrix[i][j] = jaccard\n",
    "for i in range(0, length):\n",
    "    for j in range(0, length):\n",
    "        print(matrix[i][j], end=\"\\t\")\n",
    "    print()"
   ]
  },
  {
   "cell_type": "code",
   "execution_count": null,
   "id": "included-midwest",
   "metadata": {},
   "outputs": [],
   "source": []
  }
 ],
 "metadata": {
  "kernelspec": {
   "display_name": "Python 3",
   "language": "python",
   "name": "python3"
  },
  "language_info": {
   "codemirror_mode": {
    "name": "ipython",
    "version": 3
   },
   "file_extension": ".py",
   "mimetype": "text/x-python",
   "name": "python",
   "nbconvert_exporter": "python",
   "pygments_lexer": "ipython3",
   "version": "3.9.2"
  }
 },
 "nbformat": 4,
 "nbformat_minor": 5
}
